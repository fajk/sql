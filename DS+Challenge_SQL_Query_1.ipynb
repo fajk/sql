{
 "cells": [
  {
   "cell_type": "markdown",
   "metadata": {},
   "source": [
    "### Goal of the Analysis:\n",
    "For each user_id, find the difference between the last action and the second last action. Action\n",
    "here is defined as visiting a page. If the user has just one action, you can either remove her from\n",
    "the final results or keep that user_id and have NULL as time difference between the two actions.\n",
    "The table below shows for each user all the pages she visited and the corresponding\n",
    "timestamp.\n",
    "\n",
    "### Column Explanations:\n",
    "- user_id: 6684 this is id of the user\n",
    "- page: home_page the page visited\n",
    "- unix_timestamp: 1451640067 unix timestamp in seconds\n"
   ]
  },
  {
   "cell_type": "code",
   "execution_count": 2,
   "metadata": {
    "collapsed": false
   },
   "outputs": [],
   "source": [
    "import pandas as pd\n",
    "import pandasql\n",
    "from pandasql import sqldf"
   ]
  },
  {
   "cell_type": "code",
   "execution_count": 3,
   "metadata": {
    "collapsed": true
   },
   "outputs": [],
   "source": [
    "pysqldf = lambda q: sqldf(q, globals())"
   ]
  },
  {
   "cell_type": "code",
   "execution_count": 4,
   "metadata": {
    "collapsed": false
   },
   "outputs": [
    {
     "name": "stdout",
     "output_type": "stream",
     "text": [
      "6295\n"
     ]
    }
   ],
   "source": [
    "# Read in data set\n",
    "data = pd.read_csv('C:\\\\Users\\\\Florian\\\\Google Drive\\\\C FK\\\\SQL\\\\query_one.csv')\n",
    "print data.user_id.nunique()"
   ]
  },
  {
   "cell_type": "code",
   "execution_count": 14,
   "metadata": {
    "collapsed": false
   },
   "outputs": [
    {
     "data": {
      "text/html": [
       "<div>\n",
       "<table border=\"1\" class=\"dataframe\">\n",
       "  <thead>\n",
       "    <tr style=\"text-align: right;\">\n",
       "      <th></th>\n",
       "      <th>user_id</th>\n",
       "      <th>DIF</th>\n",
       "    </tr>\n",
       "  </thead>\n",
       "  <tbody>\n",
       "    <tr>\n",
       "      <th>0</th>\n",
       "      <td>3</td>\n",
       "      <td>2</td>\n",
       "    </tr>\n",
       "    <tr>\n",
       "      <th>1</th>\n",
       "      <td>4</td>\n",
       "      <td>4</td>\n",
       "    </tr>\n",
       "    <tr>\n",
       "      <th>2</th>\n",
       "      <td>15</td>\n",
       "      <td>7</td>\n",
       "    </tr>\n",
       "    <tr>\n",
       "      <th>3</th>\n",
       "      <td>24</td>\n",
       "      <td>6</td>\n",
       "    </tr>\n",
       "    <tr>\n",
       "      <th>4</th>\n",
       "      <td>27</td>\n",
       "      <td>1</td>\n",
       "    </tr>\n",
       "    <tr>\n",
       "      <th>5</th>\n",
       "      <td>51</td>\n",
       "      <td>8</td>\n",
       "    </tr>\n",
       "    <tr>\n",
       "      <th>6</th>\n",
       "      <td>52</td>\n",
       "      <td>1</td>\n",
       "    </tr>\n",
       "    <tr>\n",
       "      <th>7</th>\n",
       "      <td>55</td>\n",
       "      <td>1</td>\n",
       "    </tr>\n",
       "    <tr>\n",
       "      <th>8</th>\n",
       "      <td>60</td>\n",
       "      <td>1</td>\n",
       "    </tr>\n",
       "    <tr>\n",
       "      <th>9</th>\n",
       "      <td>64</td>\n",
       "      <td>5</td>\n",
       "    </tr>\n",
       "  </tbody>\n",
       "</table>\n",
       "</div>"
      ],
      "text/plain": [
       "   user_id  DIF\n",
       "0        3    2\n",
       "1        4    4\n",
       "2       15    7\n",
       "3       24    6\n",
       "4       27    1\n",
       "5       51    8\n",
       "6       52    1\n",
       "7       55    1\n",
       "8       60    1\n",
       "9       64    5"
      ]
     },
     "execution_count": 14,
     "metadata": {},
     "output_type": "execute_result"
    }
   ],
   "source": [
    "q1 = \"\"\"\n",
    "select S.user_id,\n",
    "       M.MAX - MAX(S.unix_timestamp) AS DIF\n",
    "from data S\n",
    "LEFT JOIN (SELECT user_id,\n",
    "           MAX(unix_timestamp) AS MAX \n",
    "           From data GROUP BY USER_ID) M ON (S.USER_ID = M.USER_ID)\n",
    "WHERE unix_timestamp <> M.MAX \n",
    "GROUP BY S.user_id, M.MAX \n",
    "ORDER BY S.user_id\n",
    ";\n",
    "\"\"\"\n",
    "query_one = sqldf(q1,locals())\n",
    "query_one.head(10)"
   ]
  },
  {
   "cell_type": "code",
   "execution_count": null,
   "metadata": {
    "collapsed": true
   },
   "outputs": [],
   "source": []
  }
 ],
 "metadata": {
  "anaconda-cloud": {},
  "kernelspec": {
   "display_name": "Python [default]",
   "language": "python",
   "name": "python2"
  },
  "language_info": {
   "codemirror_mode": {
    "name": "ipython",
    "version": 2
   },
   "file_extension": ".py",
   "mimetype": "text/x-python",
   "name": "python",
   "nbconvert_exporter": "python",
   "pygments_lexer": "ipython2",
   "version": "2.7.12"
  }
 },
 "nbformat": 4,
 "nbformat_minor": 1
}
